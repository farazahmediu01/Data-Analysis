{
 "cells": [
  {
   "cell_type": "code",
   "execution_count": 123,
   "metadata": {},
   "outputs": [],
   "source": [
    "from typing import Pattern\n",
    "import re\n",
    "import time\n"
   ]
  },
  {
   "cell_type": "code",
   "execution_count": 124,
   "metadata": {},
   "outputs": [],
   "source": [
    "def str_to_tup(string):\n",
    "    minutes = string[:string.find(':')]\n",
    "    seconds = string[string.find(':')+1:]\n",
    "    return int(minutes), int(seconds)\n",
    "\n",
    "\n",
    "def seconds(list_minutes, list_seconds):\n",
    "    minutes = sum(list_minutes) * 60\n",
    "    seconds = sum(list_seconds) + minutes\n",
    "    return seconds\n"
   ]
  },
  {
   "cell_type": "code",
   "execution_count": 125,
   "metadata": {},
   "outputs": [
    {
     "name": "stdout",
     "output_type": "stream",
     "text": [
      "\n",
      "Database Basics \n",
      " PreviewLesson 2 - Oracle Database Overview & Basics of Tables       (19:42)\n",
      " StartLesson 1 - Course Overview                                     (5:54)\n",
      " PreviewLesson 3 - Setting up The SQL Development Environment        (6:33)\n",
      " PreviewIMPORTANT: Prepare the Course Data                           (3:42)\n",
      "Single Table Queries\n",
      " StartLesson 4 - Retrieving Data Using SELECT Clause                    \n",
      " StartLesson 5 - Using the WHERE Clause In a SQL Query               (19:35)\n",
      " StartImportant Notes From Instructor                                (3:35)\n",
      " StartLesson 6 - Using Operators in the WHERE Clause                 (19:45)\n",
      " PreviewLesson 7 - Combining WHERE, AND & OR with Operators          (19:14)\n",
      " StartLesson 8 - Query Filtering Continued BETWEEN, IN and NULL      (19:58)\n",
      " StartLesson 9 - Query Filtering Conditions & Operator Precedence    (19:54)\n",
      " StartLesson 10 - Ordering, Concatenating & Aliasing Query Results   (19:58)\n",
      " StartASSIGNMENT 1: Practice with Single Table Queries\n",
      "Single Row Functions (SRFs)\n",
      " StartLesson 11 - Single Row Functions (SRF) & Using The Dual Table \t (19:36)\n",
      " StartLesson 12 - Using Functions in WHERE And Character Based SRFs (19:58)\n",
      " StartLesson 13 - Numeric and Date Data type SRFs (19:52)\n",
      " StartLesson 14 - Conversion SRFs & Date Formatting (19:37)\n",
      " StartLesson 15 - Concluding SRFs & NULL / NULLIF Functions (16:15)\n",
      " StartAssignment 2: Practice with Single Row Functions\n",
      "Grouping Functions\n",
      " PreviewLesson 16 - Grouping Functions MIN, MAX, AVG, COUNT etc. (19:42)\n",
      " StartLesson 17 - GROUP BY Clause & HAVING Clause (19:57)\n",
      " StartLesson 18 - More Practice With The GROUP BY Clause (12:10)\n",
      "Multi-Table Queries and Joins\n",
      " StartLesson 19 - SELECT within SELECT (Subqueries) (23:55)\n",
      " PreviewLesson 20 - Relating Tables Together Using JOINs (19:19)\n",
      " StartLesson 21 - Joins Continued INNER & OUTER Joins (21:29)\n",
      " StartLesson 22 - More Joins With Correlated Subqueries (21:13)\n",
      " StartSELF JOIN (11:10)\n",
      " StartCROSS JOIN, NATURAL JOIN and the USING CLAUSE (8:43)\n",
      " StartEQUIJOIN and NON-EQUIJOINs (9:38)\n",
      " StartLesson 23- CASE Statements (8:40)\n",
      "Analytical Functions using OVER and PARTITION with ORDER BY\n",
      " StartOVER Clause with PARTITION BY (18:31)\n",
      " StartCompute Running Totals with Ordering and Partitioning (18:47)\n",
      " StartUnbounded Preceding Order in Over Clause (8:41)\n",
      " StartSliding Windows and Filtering with Analytic Functions (5:59)\n",
      " StartRank, Dense_rank, Lead, and Lag Functions (15:05)\n",
      "Creating, Altering, and Updating Tables Using SQL\n",
      " StartLesson 24 - Creating Your Own Tables & Design Considerations (20:59)\n",
      " PreviewLesson 25 - Inserting Data Into Our Table (19:39)\n",
      " StartLesson 26 - Create Table With a Primary Key Constraint (21:34)\n",
      " StartLesson 27 - Using ALTER to modify the table structure (Newly Added) (16:32)\n",
      " StartLesson 28 - Create Table with SELECT + UPDATE Data (Newly Added) (19:55)\n",
      " StartLecture 29 - MERGE Statement in Oracle (16:57)\n",
      " StartPrimary And Foreign Keys\n",
      " StartLecture 30 - Sequence Statements (12:27)\n",
      " StartLesson 31 - Deleting, Dropping and Truncating (18:48)\n",
      " StartLesson 32 - Working With Database Indexes (Newly Added) (14:19)\n",
      " StartLesson 33 - System Tables, Pseudo Columns & Deleting Duplicates (Newly Added) (24:05)\n",
      " StartLecture 34 - Views and Other Objects and Commands (Newly Added) (23:33)\n",
      " StartLecture 35 - Granting and Revoking Privileges (15:08)\n",
      "ADDITIONAL TOPICS + REVIEW for EXAM 170-071\n",
      " StartOFFSET and FETCH (9:55)\n",
      " StartERD Diagrams (18:34)\n",
      " StartCommit, Rollback, and Savepoint (14:36)\n",
      " StartLarge Objects and Interval Data Types (17:32)\n",
      " StartUsing Cascade Constraints and On Delete Constraints (17:56)\n",
      " StartUNUSED Columns (7:36)\n",
      " StartExternal Tables (14:59)\n",
      " StartSQL Plus and Substitution Variables (32:41)\n",
      "Exam Question Walkthrough Videos\n",
      " StartQA 1- DML, DDL, and Transaction Control (24:19)\n",
      " StartQA 2- Fetch and Substitution Variables (25:13)\n",
      " StartQA 3- Conversion Functions, T0_CHAR, TO_DATE, and NVL (28:50)\n",
      "APPENDIX- Installing Oracle on Windows\n",
      " StartInstalling Oracle Database 19c in Windows (9:35)\n",
      " StartInstalling Oracle SQL Developer in Windows (13:27)\n"
     ]
    }
   ],
   "source": [
    "with open('text.txt', 'r') as file_handle:\n",
    "    text = file_handle.read()\n",
    "    print(text)\n",
    "\n",
    "file_handle.close()\n"
   ]
  },
  {
   "cell_type": "code",
   "execution_count": 126,
   "metadata": {},
   "outputs": [
    {
     "name": "stdout",
     "output_type": "stream",
     "text": [
      "1) <re.Match object; span=(88, 93), match='19:42'>\n",
      "2) <re.Match object; span=(165, 169), match='5:54'>\n",
      "3) <re.Match object; span=(241, 245), match='6:33'>\n",
      "4) <re.Match object; span=(317, 321), match='3:42'>\n",
      "5) <re.Match object; span=(487, 492), match='19:35'>\n",
      "6) <re.Match object; span=(564, 568), match='3:35'>\n",
      "7) <re.Match object; span=(640, 645), match='19:45'>\n",
      "8) <re.Match object; span=(717, 722), match='19:14'>\n",
      "9) <re.Match object; span=(794, 799), match='19:58'>\n",
      "10) <re.Match object; span=(871, 876), match='19:54'>\n",
      "11) <re.Match object; span=(948, 953), match='19:58'>\n",
      "12) <re.Match object; span=(1109, 1114), match='19:36'>\n",
      "13) <re.Match object; span=(1185, 1190), match='19:58'>\n",
      "14) <re.Match object; span=(1243, 1248), match='19:52'>\n",
      "15) <re.Match object; span=(1303, 1308), match='19:37'>\n",
      "16) <re.Match object; span=(1371, 1376), match='16:15'>\n",
      "17) <re.Match object; span=(1518, 1523), match='19:42'>\n",
      "18) <re.Match object; span=(1576, 1581), match='19:57'>\n",
      "19) <re.Match object; span=(1641, 1646), match='12:10'>\n",
      "20) <re.Match object; span=(1731, 1736), match='23:55'>\n",
      "21) <re.Match object; span=(1796, 1801), match='19:19'>\n",
      "22) <re.Match object; span=(1858, 1863), match='21:29'>\n",
      "23) <re.Match object; span=(1922, 1927), match='21:13'>\n",
      "24) <re.Match object; span=(1946, 1951), match='11:10'>\n",
      "25) <re.Match object; span=(2006, 2010), match='8:43'>\n",
      "26) <re.Match object; span=(2046, 2050), match='9:38'>\n",
      "27) <re.Match object; span=(2086, 2090), match='8:40'>\n",
      "28) <re.Match object; span=(2189, 2194), match='18:31'>\n",
      "29) <re.Match object; span=(2257, 2262), match='18:47'>\n",
      "30) <re.Match object; span=(2312, 2316), match='8:41'>\n",
      "31) <re.Match object; span=(2379, 2383), match='5:59'>\n",
      "32) <re.Match object; span=(2434, 2439), match='15:05'>\n",
      "33) <re.Match object; span=(2559, 2564), match='20:59'>\n",
      "34) <re.Match object; span=(2617, 2622), match='19:39'>\n",
      "35) <re.Match object; span=(2686, 2691), match='21:34'>\n",
      "36) <re.Match object; span=(2768, 2773), match='16:32'>\n",
      "37) <re.Match object; span=(2847, 2852), match='19:55'>\n",
      "38) <re.Match object; span=(2900, 2905), match='16:57'>\n",
      "39) <re.Match object; span=(2978, 2983), match='12:27'>\n",
      "40) <re.Match object; span=(3038, 3043), match='18:48'>\n",
      "41) <re.Match object; span=(3108, 3113), match='14:19'>\n",
      "42) <re.Match object; span=(3200, 3205), match='24:05'>\n",
      "43) <re.Match object; span=(3278, 3283), match='23:33'>\n",
      "44) <re.Match object; span=(3338, 3343), match='15:08'>\n",
      "45) <re.Match object; span=(3381, 3384), match='170'>\n",
      "46) <re.Match object; span=(3385, 3388), match='071'>\n",
      "47) <re.Match object; span=(3413, 3417), match='9:55'>\n",
      "48) <re.Match object; span=(3439, 3444), match='18:34'>\n",
      "49) <re.Match object; span=(3485, 3490), match='14:36'>\n",
      "50) <re.Match object; span=(3537, 3542), match='17:32'>\n",
      "51) <re.Match object; span=(3603, 3608), match='17:56'>\n",
      "52) <re.Match object; span=(3632, 3636), match='7:36'>\n",
      "53) <re.Match object; span=(3661, 3666), match='14:59'>\n",
      "54) <re.Match object; span=(3711, 3716), match='32:41'>\n",
      "55) <re.Match object; span=(3798, 3803), match='24:19'>\n",
      "56) <re.Match object; span=(3851, 3856), match='25:13'>\n",
      "57) <re.Match object; span=(3919, 3924), match='28:50'>\n",
      "58) <re.Match object; span=(4014, 4018), match='9:35'>\n",
      "59) <re.Match object; span=(4070, 4075), match='13:27'>\n"
     ]
    }
   ],
   "source": [
    "pattern = re.compile(r'\\d{1,2}.\\d{1,2}')\n",
    "matches = pattern.finditer(text)\n",
    "count = 0\n",
    "\n",
    "for match in matches:\n",
    "    count += 1\n",
    "    print(f'{count}) {match}')\n"
   ]
  },
  {
   "cell_type": "code",
   "execution_count": 127,
   "metadata": {},
   "outputs": [
    {
     "data": {
      "text/plain": [
       "'Total time is 16 Hours, 23 Minutes and 17 Seconds'"
      ]
     },
     "execution_count": 127,
     "metadata": {},
     "output_type": "execute_result"
    }
   ],
   "source": [
    "list_minutes = list()\n",
    "list_seconds = list()\n",
    "for item in pattern.findall(text):\n",
    "    # print(str_to_tup(item))\n",
    "    a, b = str_to_tup(item)\n",
    "    list_minutes.append(a)\n",
    "    list_seconds.append(b)\n",
    "\n",
    "s = seconds(list_minutes,list_seconds)\n",
    "time.strftime(\"Total time is %H Hours, %M Minutes and %S Seconds\", time.gmtime(s))"
   ]
  }
 ],
 "metadata": {
  "language_info": {
   "name": "python"
  },
  "orig_nbformat": 4
 },
 "nbformat": 4,
 "nbformat_minor": 2
}
