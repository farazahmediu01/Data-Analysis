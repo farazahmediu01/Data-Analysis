{
 "cells": [
  {
   "cell_type": "markdown",
   "metadata": {},
   "source": [
    "Question how many <span style='color:orange'>Columns</span> are there in an Excel Sheet?"
   ]
  },
  {
   "cell_type": "code",
   "execution_count": 2,
   "metadata": {},
   "outputs": [],
   "source": [
    "import numpy as np"
   ]
  },
  {
   "cell_type": "code",
   "execution_count": 15,
   "metadata": {},
   "outputs": [],
   "source": [
    "alphabets = ['a', 'b', 'c', 'd', 'e', 'f', 'g', 'h', 'i', 'j', 'k', 'l', 'm',\n",
    "             'n', 'o', 'p', 'q', 'r', 's', 't', 'u', 'v', 'w', 'x', 'y', 'z']\n",
    "abc = np.array(alphabets)"
   ]
  },
  {
   "cell_type": "code",
   "execution_count": 4,
   "metadata": {},
   "outputs": [],
   "source": [
    "# 1st loop.\n",
    "all_possible_combinations = abc\n",
    "for a in abc:\n",
    "    for b in abc:\n",
    "        combination = a+b\n",
    "        all_possible_combinations = np.append(\n",
    "            all_possible_combinations, combination)\n"
   ]
  },
  {
   "cell_type": "code",
   "execution_count": 5,
   "metadata": {},
   "outputs": [],
   "source": [
    "# 2nd loop.\n",
    "for a in abc:\n",
    "    for b in abc:\n",
    "        for c in abc:\n",
    "            combination = a+b+c\n",
    "            all_possible_combinations = np.append(\n",
    "                all_possible_combinations, combination)\n"
   ]
  },
  {
   "cell_type": "code",
   "execution_count": 14,
   "metadata": {},
   "outputs": [
    {
     "name": "stdout",
     "output_type": "stream",
     "text": [
      "18278\n"
     ]
    },
    {
     "data": {
      "text/plain": [
       "16383"
      ]
     },
     "execution_count": 14,
     "metadata": {},
     "output_type": "execute_result"
    }
   ],
   "source": [
    "print(len(all_possible_combinations))          # Total length.\n",
    "all_possible_combinations.searchsorted('xfd')  # last column in excel.\n"
   ]
  },
  {
   "cell_type": "markdown",
   "metadata": {},
   "source": [
    "<hr>\n",
    "There are 18278 combination if we combine the combination if two 1+1 (eg: ab) and 1+1+1 three lettes (eg: abc).\n",
    "\n",
    "Answer: There are <span style='color:green'><b>16384</b></span> coulmns in an Excel sheet."
   ]
  },
  {
   "cell_type": "markdown",
   "metadata": {},
   "source": []
  }
 ],
 "metadata": {
  "interpreter": {
   "hash": "dba05fec1dff9e5c30820adaa1c64cbf960defd08fe3b0ac9621570720f4a1f6"
  },
  "kernelspec": {
   "display_name": "Python 3.8.5 64-bit",
   "language": "python",
   "name": "python3"
  },
  "language_info": {
   "codemirror_mode": {
    "name": "ipython",
    "version": 3
   },
   "file_extension": ".py",
   "mimetype": "text/x-python",
   "name": "python",
   "nbconvert_exporter": "python",
   "pygments_lexer": "ipython3",
   "version": "3.8.5"
  },
  "orig_nbformat": 4
 },
 "nbformat": 4,
 "nbformat_minor": 2
}
